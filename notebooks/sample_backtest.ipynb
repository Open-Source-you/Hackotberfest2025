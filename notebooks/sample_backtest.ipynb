{
 "cells": [
  {
   "cell_type": "code",
   "execution_count": null,
   "id": "a687767e",
   "metadata": {
    "vscode": {
     "languageId": "plaintext"
    }
   },
   "outputs": [],
   "source": [
    "from performance import performance_metrics\n",
    "\n",
    "# Example equity curve (pretend data)\n",
    "import pandas as pd\n",
    "equity_curve = pd.Series([10000, 10100, 10250, 10050, 10300])\n",
    "\n",
    "metrics = performance_metrics(equity_curve)\n",
    "print(metrics)\n",
    "\n",
    "equity_curve.plot(title=\"Equity Curve\")\n"
   ]
  }
 ],
 "metadata": {
  "language_info": {
   "name": "python"
  }
 },
 "nbformat": 4,
 "nbformat_minor": 5
}
